{
 "cells": [
  {
   "cell_type": "markdown",
   "metadata": {},
   "source": [
    "### 必要なモジュールを読み込む"
   ]
  },
  {
   "cell_type": "code",
   "execution_count": 1,
   "metadata": {
    "collapsed": true
   },
   "outputs": [],
   "source": [
    "%matplotlib inline\n",
    "import numpy as np\n",
    "import matplotlib.pyplot as plt\n",
    "import tensorflow as tf\n",
    "from tensorflow.examples.tutorials.mnist import input_data"
   ]
  },
  {
   "cell_type": "markdown",
   "metadata": {},
   "source": [
    "### MNISTデータの取得とプレビュー\n",
    "- mnist.train.images: 訓練用イメージデータが配列で格納されている。1枚のイメージはベクトルになっていることに注意。\n",
    "- mnist.train.labels: 訓練用のラベルデータ。1-of-K 表現。\n",
    "- mnist.validation.images: バリデーション用イメージデータ。\n",
    "- mnist.validation.labels: バリデーション用ラベルデータ。\n",
    "- mnist.test.images: テスト用イメージデータ。\n",
    "- mnist.test.labels: テスト用ラベルデータ。"
   ]
  },
  {
   "cell_type": "code",
   "execution_count": 2,
   "metadata": {
    "collapsed": false
   },
   "outputs": [
    {
     "name": "stdout",
     "output_type": "stream",
     "text": [
      "Extracting MNIST_data/train-images-idx3-ubyte.gz\n",
      "Extracting MNIST_data/train-labels-idx1-ubyte.gz\n",
      "Extracting MNIST_data/t10k-images-idx3-ubyte.gz\n",
      "Extracting MNIST_data/t10k-labels-idx1-ubyte.gz\n"
     ]
    }
   ],
   "source": [
    "# データのダウンロードと展開\n",
    "mnist = input_data.read_data_sets(\"MNIST_data/\", one_hot=True)"
   ]
  },
  {
   "cell_type": "code",
   "execution_count": 3,
   "metadata": {
    "collapsed": false
   },
   "outputs": [
    {
     "name": "stdout",
     "output_type": "stream",
     "text": [
      "[7 3 4 6]\n"
     ]
    },
    {
     "data": {
      "image/png": "[encoded data removed]",
      "text/plain": [
       "<matplotlib.figure.Figure at 0x10d45dac8>"
      ]
     },
     "metadata": {},
     "output_type": "display_data"
    }
   ],
   "source": [
    "# 訓練画像の先頭４毎を描画\n",
    "for i in range(0, 4):\n",
    "    plt.subplot(141 + i)\n",
    "    plt.imshow(-mnist.train.images[i].reshape(28, 28), cmap=plt.cm.gray)\n",
    "print(np.argmax(mnist.train.labels[0:4,], axis=1))"
   ]
  },
  {
   "cell_type": "markdown",
   "metadata": {},
   "source": [
    "## TensorFlow でMLP\n",
    "### 学習したいモデルを記述する"
   ]
  },
  {
   "cell_type": "code",
   "execution_count": 4,
   "metadata": {
    "collapsed": false
   },
   "outputs": [],
   "source": [
    "# 入力変数と出力変数のプレースホルダを生成\n",
    "x = tf.placeholder(tf.float32, [None, 784], name='Image')\n",
    "y_ = tf.placeholder(tf.float32, [None, 10], name='true_label')\n",
    "\n",
    "# モデル式 (入力層:784ノード, 隠れ層:100ノード, 出力層:10ノード)\n",
    "with tf.name_scope('fc_1'):\n",
    "    W1 = tf.Variable(tf.truncated_normal([784, 100]), name='weight')\n",
    "    b1 = tf.Variable(tf.zeros([100]), name='bias')\n",
    "    h = tf.sigmoid(tf.matmul(x, W1) + b1) # 入力層->隠れ層\n",
    "\n",
    "with tf.name_scope('fc_2'):\n",
    "    W2 = tf.Variable(tf.truncated_normal([100, 10]), name='weight')\n",
    "    b2 = tf.Variable(tf.zeros([10]), name='bias')\n",
    "    u = tf.matmul(h, W2) + b2    # 隠れ層->出力層 (ロジット)\n",
    "    y = tf.nn.softmax(u)         # 隠れ層->出力層 (ソフトマックス後)"
   ]
  },
  {
   "cell_type": "markdown",
   "metadata": {},
   "source": [
    "### 学習やテストに必要な関数を定義する"
   ]
  },
  {
   "cell_type": "code",
   "execution_count": 5,
   "metadata": {
    "collapsed": true
   },
   "outputs": [],
   "source": [
    "with tf.name_scope('train'):\n",
    "    # 誤差関数(loss)\n",
    "    loss = tf.reduce_mean(tf.nn.softmax_cross_entropy_with_logits(u, y_), name='Xent')\n",
    "    xent_summ = tf.scalar_summary('learning/XEnt', loss)\n",
    "    # 最適化手段(最急降下法)\n",
    "    global_step = tf.Variable(0, name='global_step', trainable=False)\n",
    "    train_step = tf.train.GradientDescentOptimizer(0.01).minimize(loss, global_step=global_step)\n",
    "\n",
    "with tf.name_scope('eval'):\n",
    "    # 正答率\n",
    "    correct_prediction = tf.equal(tf.argmax(y,1), tf.argmax(y_,1))\n",
    "    acc = tf.reduce_mean(tf.cast(correct_prediction, tf.float32), name='Accuracy')\n",
    "    acc_summ = tf.scalar_summary('learning/Accuracy', acc)"
   ]
  },
  {
   "cell_type": "markdown",
   "metadata": {},
   "source": [
    "### 実際に学習処理を実行する"
   ]
  },
  {
   "cell_type": "code",
   "execution_count": 6,
   "metadata": {
    "collapsed": false
   },
   "outputs": [],
   "source": [
    "# すべてのサマリーを統合\n",
    "merged_summ = tf.merge_all_summaries()\n",
    "\n",
    "# セッションを準備し，変数を初期化\n",
    "sess = tf.Session()\n",
    "\n",
    "# セッション作成後に SummaryWriter を呼ぶことで， グラフ構造が出力される。\n",
    "train_writer = tf.train.SummaryWriter('data/mnist/train', graph=sess.graph, flush_secs=10)\n",
    "valid_writer = tf.train.SummaryWriter('data/mnist/valid', flush_secs=10)\n",
    "\n",
    "init = tf.initialize_all_variables()\n",
    "sess.run(init)"
   ]
  },
  {
   "cell_type": "code",
   "execution_count": null,
   "metadata": {
    "collapsed": false
   },
   "outputs": [
    {
     "name": "stdout",
     "output_type": "stream",
     "text": [
      "step=3100, Xent(train)=1.09, Acc(train)=0.68, Xent(valid)=1.06, Acc(valid)=0.70\n",
      "step=3200, Xent(train)=1.43, Acc(train)=0.62, Xent(valid)=1.04, Acc(valid)=0.70\n",
      "step=3300, Xent(train)=1.09, Acc(train)=0.68, Xent(valid)=1.02, Acc(valid)=0.70\n",
      "step=3400, Xent(train)=1.43, Acc(train)=0.56, Xent(valid)=1.01, Acc(valid)=0.70\n",
      "step=3500, Xent(train)=1.09, Acc(train)=0.68, Xent(valid)=1.00, Acc(valid)=0.71\n",
      "step=3600, Xent(train)=1.08, Acc(train)=0.64, Xent(valid)=0.98, Acc(valid)=0.71\n",
      "step=3700, Xent(train)=0.95, Acc(train)=0.71, Xent(valid)=0.97, Acc(valid)=0.72\n",
      "step=3800, Xent(train)=0.74, Acc(train)=0.76, Xent(valid)=0.96, Acc(valid)=0.72\n"
     ]
    }
   ],
   "source": [
    "for i in range(1000):\n",
    "    # バッチ型確率的勾配降下法でパラメータ更新\n",
    "    batch_xs, batch_ys = mnist.train.next_batch(100)\n",
    "    _, train_xent, train_acc, train_merged_summ, step = sess.run(\n",
    "        [train_step, loss, acc, merged_summ, global_step], feed_dict={x: batch_xs, y_: batch_ys})\n",
    "    train_writer.add_summary(train_merged_summ, step)\n",
    "    \n",
    "    if (i + 1) % 100 == 0:\n",
    "        # 100回の更新ごとに予測性能を出力\n",
    "        valid_xent, valid_acc, valid_merged_summ, step = sess.run([loss, acc, merged_summ, global_step], \n",
    "                                         feed_dict={x: mnist.validation.images[0:1000], y_: mnist.validation.labels[0:1000]})\n",
    "        valid_writer.add_summary(valid_merged_summ, step)\n",
    "        print (\"step=%3d, Xent(train)=%.2f, Acc(train)=%.2f, Xent(valid)=%.2f, Acc(valid)=%.2f\" % \n",
    "               (step, train_xent, train_acc, valid_xent, valid_acc))"
   ]
  },
  {
   "cell_type": "code",
   "execution_count": null,
   "metadata": {
    "collapsed": true
   },
   "outputs": [],
   "source": [
    "# バッファ内のサマリーデータを出力する\n",
    "train_writer.flush()\n",
    "valid_writer.flush()"
   ]
  },
  {
   "cell_type": "markdown",
   "metadata": {},
   "source": [
    "### 後片付け"
   ]
  },
  {
   "cell_type": "code",
   "execution_count": 16,
   "metadata": {
    "collapsed": true
   },
   "outputs": [],
   "source": [
    "# セッションを閉じる\n",
    "sess.close()"
   ]
  }
 ],
 "metadata": {
  "kernelspec": {
   "display_name": "Python 3",
   "language": "python",
   "name": "python3"
  },
  "language_info": {
   "codemirror_mode": {
    "name": "ipython",
    "version": 3
   },
   "file_extension": ".py",
   "mimetype": "text/x-python",
   "name": "python",
   "nbconvert_exporter": "python",
   "pygments_lexer": "ipython3",
   "version": "3.5.1"
  }
 },
 "nbformat": 4,
 "nbformat_minor": 0
}
